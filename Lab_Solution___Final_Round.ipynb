{
  "nbformat": 4,
  "nbformat_minor": 0,
  "metadata": {
    "colab": {
      "name": "Lab Solution | Final Round.ipynb",
      "provenance": [],
      "collapsed_sections": []
    },
    "kernelspec": {
      "name": "python3",
      "display_name": "Python 3"
    },
    "language_info": {
      "name": "python"
    }
  },
  "cells": [
    {
      "cell_type": "markdown",
      "metadata": {
        "id": "GieLfGGurkCx"
      },
      "source": [
        "## **Lab | Customer Analysis Final Round**"
      ]
    },
    {
      "cell_type": "markdown",
      "metadata": {
        "id": "Q2ihY_Y-z9_C"
      },
      "source": [
        "## 01 - **Problem (case study)**\n",
        "- Data Description.\n",
        "- Goal."
      ]
    },
    {
      "cell_type": "markdown",
      "metadata": {
        "id": "2VX9UCeCzyVF"
      },
      "source": [
        "The objective of this data is to understand customer demographics and buying behavior."
      ]
    },
    {
      "cell_type": "markdown",
      "metadata": {
        "id": "xDwQ1TLnz1YG"
      },
      "source": [
        "The goal is to clean the data as much as possible to create a good model prediction of the label 'Total Claim Amount'"
      ]
    },
    {
      "cell_type": "markdown",
      "metadata": {
        "id": "tjwGt5_j0D5Y"
      },
      "source": [
        "## 02 - **Getting Data**\n",
        "- Read the .csv file."
      ]
    },
    {
      "cell_type": "code",
      "metadata": {
        "id": "R11ExdWinZVq"
      },
      "source": [
        "import pandas as pd"
      ],
      "execution_count": 38,
      "outputs": []
    },
    {
      "cell_type": "code",
      "metadata": {
        "id": "NTJVJMxqndnz"
      },
      "source": [
        "data = pd.read_csv('marketing_customer_analysis.csv')"
      ],
      "execution_count": 39,
      "outputs": []
    },
    {
      "cell_type": "markdown",
      "metadata": {
        "id": "YxWsS1OwpCGa"
      },
      "source": [
        "### 03 - **Cleaning/Wrangling/EDA**\n",
        "\n",
        "- Change headers names.\n",
        "- Deal with NaN values.\n",
        "- Categorical Features.\n",
        "- Numerical Features.\n",
        "- Exploration.\n"
      ]
    },
    {
      "cell_type": "markdown",
      "metadata": {
        "id": "2XWyjLruzV7b"
      },
      "source": [
        "**Change headers names.**"
      ]
    },
    {
      "cell_type": "code",
      "metadata": {
        "colab": {
          "base_uri": "https://localhost:8080/",
          "height": 360
        },
        "id": "HRH-kK4QpM2-",
        "outputId": "fc004783-4047-43dd-a915-b4cdaef0fc77"
      },
      "source": [
        "column_names = data.columns\n",
        "data.head()"
      ],
      "execution_count": 40,
      "outputs": [
        {
          "output_type": "execute_result",
          "data": {
            "text/html": [
              "<div>\n",
              "<style scoped>\n",
              "    .dataframe tbody tr th:only-of-type {\n",
              "        vertical-align: middle;\n",
              "    }\n",
              "\n",
              "    .dataframe tbody tr th {\n",
              "        vertical-align: top;\n",
              "    }\n",
              "\n",
              "    .dataframe thead th {\n",
              "        text-align: right;\n",
              "    }\n",
              "</style>\n",
              "<table border=\"1\" class=\"dataframe\">\n",
              "  <thead>\n",
              "    <tr style=\"text-align: right;\">\n",
              "      <th></th>\n",
              "      <th>Customer</th>\n",
              "      <th>State</th>\n",
              "      <th>Customer Lifetime Value</th>\n",
              "      <th>Response</th>\n",
              "      <th>Coverage</th>\n",
              "      <th>Education</th>\n",
              "      <th>Effective To Date</th>\n",
              "      <th>EmploymentStatus</th>\n",
              "      <th>Gender</th>\n",
              "      <th>Income</th>\n",
              "      <th>Location Code</th>\n",
              "      <th>Marital Status</th>\n",
              "      <th>Monthly Premium Auto</th>\n",
              "      <th>Months Since Last Claim</th>\n",
              "      <th>Months Since Policy Inception</th>\n",
              "      <th>Number of Open Complaints</th>\n",
              "      <th>Number of Policies</th>\n",
              "      <th>Policy Type</th>\n",
              "      <th>Policy</th>\n",
              "      <th>Renew Offer Type</th>\n",
              "      <th>Sales Channel</th>\n",
              "      <th>Total Claim Amount</th>\n",
              "      <th>Vehicle Class</th>\n",
              "      <th>Vehicle Size</th>\n",
              "    </tr>\n",
              "  </thead>\n",
              "  <tbody>\n",
              "    <tr>\n",
              "      <th>0</th>\n",
              "      <td>BU79786</td>\n",
              "      <td>Washington</td>\n",
              "      <td>2763.519279</td>\n",
              "      <td>No</td>\n",
              "      <td>Basic</td>\n",
              "      <td>Bachelor</td>\n",
              "      <td>2/24/11</td>\n",
              "      <td>Employed</td>\n",
              "      <td>F</td>\n",
              "      <td>56274</td>\n",
              "      <td>Suburban</td>\n",
              "      <td>Married</td>\n",
              "      <td>69</td>\n",
              "      <td>32</td>\n",
              "      <td>5</td>\n",
              "      <td>0</td>\n",
              "      <td>1</td>\n",
              "      <td>Corporate Auto</td>\n",
              "      <td>Corporate L3</td>\n",
              "      <td>Offer1</td>\n",
              "      <td>Agent</td>\n",
              "      <td>384.811147</td>\n",
              "      <td>Two-Door Car</td>\n",
              "      <td>Medsize</td>\n",
              "    </tr>\n",
              "    <tr>\n",
              "      <th>1</th>\n",
              "      <td>QZ44356</td>\n",
              "      <td>Arizona</td>\n",
              "      <td>6979.535903</td>\n",
              "      <td>No</td>\n",
              "      <td>Extended</td>\n",
              "      <td>Bachelor</td>\n",
              "      <td>1/31/11</td>\n",
              "      <td>Unemployed</td>\n",
              "      <td>F</td>\n",
              "      <td>0</td>\n",
              "      <td>Suburban</td>\n",
              "      <td>Single</td>\n",
              "      <td>94</td>\n",
              "      <td>13</td>\n",
              "      <td>42</td>\n",
              "      <td>0</td>\n",
              "      <td>8</td>\n",
              "      <td>Personal Auto</td>\n",
              "      <td>Personal L3</td>\n",
              "      <td>Offer3</td>\n",
              "      <td>Agent</td>\n",
              "      <td>1131.464935</td>\n",
              "      <td>Four-Door Car</td>\n",
              "      <td>Medsize</td>\n",
              "    </tr>\n",
              "    <tr>\n",
              "      <th>2</th>\n",
              "      <td>AI49188</td>\n",
              "      <td>Nevada</td>\n",
              "      <td>12887.431650</td>\n",
              "      <td>No</td>\n",
              "      <td>Premium</td>\n",
              "      <td>Bachelor</td>\n",
              "      <td>2/19/11</td>\n",
              "      <td>Employed</td>\n",
              "      <td>F</td>\n",
              "      <td>48767</td>\n",
              "      <td>Suburban</td>\n",
              "      <td>Married</td>\n",
              "      <td>108</td>\n",
              "      <td>18</td>\n",
              "      <td>38</td>\n",
              "      <td>0</td>\n",
              "      <td>2</td>\n",
              "      <td>Personal Auto</td>\n",
              "      <td>Personal L3</td>\n",
              "      <td>Offer1</td>\n",
              "      <td>Agent</td>\n",
              "      <td>566.472247</td>\n",
              "      <td>Two-Door Car</td>\n",
              "      <td>Medsize</td>\n",
              "    </tr>\n",
              "    <tr>\n",
              "      <th>3</th>\n",
              "      <td>WW63253</td>\n",
              "      <td>California</td>\n",
              "      <td>7645.861827</td>\n",
              "      <td>No</td>\n",
              "      <td>Basic</td>\n",
              "      <td>Bachelor</td>\n",
              "      <td>1/20/11</td>\n",
              "      <td>Unemployed</td>\n",
              "      <td>M</td>\n",
              "      <td>0</td>\n",
              "      <td>Suburban</td>\n",
              "      <td>Married</td>\n",
              "      <td>106</td>\n",
              "      <td>18</td>\n",
              "      <td>65</td>\n",
              "      <td>0</td>\n",
              "      <td>7</td>\n",
              "      <td>Corporate Auto</td>\n",
              "      <td>Corporate L2</td>\n",
              "      <td>Offer1</td>\n",
              "      <td>Call Center</td>\n",
              "      <td>529.881344</td>\n",
              "      <td>SUV</td>\n",
              "      <td>Medsize</td>\n",
              "    </tr>\n",
              "    <tr>\n",
              "      <th>4</th>\n",
              "      <td>HB64268</td>\n",
              "      <td>Washington</td>\n",
              "      <td>2813.692575</td>\n",
              "      <td>No</td>\n",
              "      <td>Basic</td>\n",
              "      <td>Bachelor</td>\n",
              "      <td>2/3/11</td>\n",
              "      <td>Employed</td>\n",
              "      <td>M</td>\n",
              "      <td>43836</td>\n",
              "      <td>Rural</td>\n",
              "      <td>Single</td>\n",
              "      <td>73</td>\n",
              "      <td>12</td>\n",
              "      <td>44</td>\n",
              "      <td>0</td>\n",
              "      <td>1</td>\n",
              "      <td>Personal Auto</td>\n",
              "      <td>Personal L1</td>\n",
              "      <td>Offer1</td>\n",
              "      <td>Agent</td>\n",
              "      <td>138.130879</td>\n",
              "      <td>Four-Door Car</td>\n",
              "      <td>Medsize</td>\n",
              "    </tr>\n",
              "  </tbody>\n",
              "</table>\n",
              "</div>"
            ],
            "text/plain": [
              "  Customer       State  ...  Vehicle Class Vehicle Size\n",
              "0  BU79786  Washington  ...   Two-Door Car      Medsize\n",
              "1  QZ44356     Arizona  ...  Four-Door Car      Medsize\n",
              "2  AI49188      Nevada  ...   Two-Door Car      Medsize\n",
              "3  WW63253  California  ...            SUV      Medsize\n",
              "4  HB64268  Washington  ...  Four-Door Car      Medsize\n",
              "\n",
              "[5 rows x 24 columns]"
            ]
          },
          "metadata": {
            "tags": []
          },
          "execution_count": 40
        }
      ]
    },
    {
      "cell_type": "code",
      "metadata": {
        "id": "XTFOc4LBpTb9"
      },
      "source": [
        "data = data.rename(columns={'EmploymentStatus':'Employment Status'})"
      ],
      "execution_count": 41,
      "outputs": []
    },
    {
      "cell_type": "markdown",
      "metadata": {
        "id": "CVGvxa8yza_n"
      },
      "source": [
        "**Deal with NaN values.**"
      ]
    },
    {
      "cell_type": "code",
      "metadata": {
        "colab": {
          "base_uri": "https://localhost:8080/"
        },
        "id": "oY0sXg9-plIn",
        "outputId": "d86a2d2a-8ac3-4783-f257-49be05e2a1c0"
      },
      "source": [
        "data.isna().sum()"
      ],
      "execution_count": 42,
      "outputs": [
        {
          "output_type": "execute_result",
          "data": {
            "text/plain": [
              "Customer                         0\n",
              "State                            0\n",
              "Customer Lifetime Value          0\n",
              "Response                         0\n",
              "Coverage                         0\n",
              "Education                        0\n",
              "Effective To Date                0\n",
              "Employment Status                0\n",
              "Gender                           0\n",
              "Income                           0\n",
              "Location Code                    0\n",
              "Marital Status                   0\n",
              "Monthly Premium Auto             0\n",
              "Months Since Last Claim          0\n",
              "Months Since Policy Inception    0\n",
              "Number of Open Complaints        0\n",
              "Number of Policies               0\n",
              "Policy Type                      0\n",
              "Policy                           0\n",
              "Renew Offer Type                 0\n",
              "Sales Channel                    0\n",
              "Total Claim Amount               0\n",
              "Vehicle Class                    0\n",
              "Vehicle Size                     0\n",
              "dtype: int64"
            ]
          },
          "metadata": {
            "tags": []
          },
          "execution_count": 42
        }
      ]
    },
    {
      "cell_type": "markdown",
      "metadata": {
        "id": "zNPzTOn_zhrQ"
      },
      "source": [
        "**Categorical Features.**\n",
        "**Numerical Features.**"
      ]
    },
    {
      "cell_type": "code",
      "metadata": {
        "id": "JY-LY33oqAUw"
      },
      "source": [
        "import numpy as np"
      ],
      "execution_count": 43,
      "outputs": []
    },
    {
      "cell_type": "code",
      "metadata": {
        "colab": {
          "base_uri": "https://localhost:8080/"
        },
        "id": "J2avdcSZqUlT",
        "outputId": "0d6d5b2b-4685-4805-cf9d-258f01c26827"
      },
      "source": [
        "data.dtypes"
      ],
      "execution_count": 44,
      "outputs": [
        {
          "output_type": "execute_result",
          "data": {
            "text/plain": [
              "Customer                          object\n",
              "State                             object\n",
              "Customer Lifetime Value          float64\n",
              "Response                          object\n",
              "Coverage                          object\n",
              "Education                         object\n",
              "Effective To Date                 object\n",
              "Employment Status                 object\n",
              "Gender                            object\n",
              "Income                             int64\n",
              "Location Code                     object\n",
              "Marital Status                    object\n",
              "Monthly Premium Auto               int64\n",
              "Months Since Last Claim            int64\n",
              "Months Since Policy Inception      int64\n",
              "Number of Open Complaints          int64\n",
              "Number of Policies                 int64\n",
              "Policy Type                       object\n",
              "Policy                            object\n",
              "Renew Offer Type                  object\n",
              "Sales Channel                     object\n",
              "Total Claim Amount               float64\n",
              "Vehicle Class                     object\n",
              "Vehicle Size                      object\n",
              "dtype: object"
            ]
          },
          "metadata": {
            "tags": []
          },
          "execution_count": 44
        }
      ]
    },
    {
      "cell_type": "code",
      "metadata": {
        "colab": {
          "base_uri": "https://localhost:8080/",
          "height": 490
        },
        "id": "NLUPODaJpc2B",
        "outputId": "6d14482e-bbbf-4536-a4ed-b34c02ea2458"
      },
      "source": [
        "data._get_numeric_data()"
      ],
      "execution_count": 45,
      "outputs": [
        {
          "output_type": "execute_result",
          "data": {
            "text/html": [
              "<div>\n",
              "<style scoped>\n",
              "    .dataframe tbody tr th:only-of-type {\n",
              "        vertical-align: middle;\n",
              "    }\n",
              "\n",
              "    .dataframe tbody tr th {\n",
              "        vertical-align: top;\n",
              "    }\n",
              "\n",
              "    .dataframe thead th {\n",
              "        text-align: right;\n",
              "    }\n",
              "</style>\n",
              "<table border=\"1\" class=\"dataframe\">\n",
              "  <thead>\n",
              "    <tr style=\"text-align: right;\">\n",
              "      <th></th>\n",
              "      <th>Customer Lifetime Value</th>\n",
              "      <th>Income</th>\n",
              "      <th>Monthly Premium Auto</th>\n",
              "      <th>Months Since Last Claim</th>\n",
              "      <th>Months Since Policy Inception</th>\n",
              "      <th>Number of Open Complaints</th>\n",
              "      <th>Number of Policies</th>\n",
              "      <th>Total Claim Amount</th>\n",
              "    </tr>\n",
              "  </thead>\n",
              "  <tbody>\n",
              "    <tr>\n",
              "      <th>0</th>\n",
              "      <td>2763.519279</td>\n",
              "      <td>56274</td>\n",
              "      <td>69</td>\n",
              "      <td>32</td>\n",
              "      <td>5</td>\n",
              "      <td>0</td>\n",
              "      <td>1</td>\n",
              "      <td>384.811147</td>\n",
              "    </tr>\n",
              "    <tr>\n",
              "      <th>1</th>\n",
              "      <td>6979.535903</td>\n",
              "      <td>0</td>\n",
              "      <td>94</td>\n",
              "      <td>13</td>\n",
              "      <td>42</td>\n",
              "      <td>0</td>\n",
              "      <td>8</td>\n",
              "      <td>1131.464935</td>\n",
              "    </tr>\n",
              "    <tr>\n",
              "      <th>2</th>\n",
              "      <td>12887.431650</td>\n",
              "      <td>48767</td>\n",
              "      <td>108</td>\n",
              "      <td>18</td>\n",
              "      <td>38</td>\n",
              "      <td>0</td>\n",
              "      <td>2</td>\n",
              "      <td>566.472247</td>\n",
              "    </tr>\n",
              "    <tr>\n",
              "      <th>3</th>\n",
              "      <td>7645.861827</td>\n",
              "      <td>0</td>\n",
              "      <td>106</td>\n",
              "      <td>18</td>\n",
              "      <td>65</td>\n",
              "      <td>0</td>\n",
              "      <td>7</td>\n",
              "      <td>529.881344</td>\n",
              "    </tr>\n",
              "    <tr>\n",
              "      <th>4</th>\n",
              "      <td>2813.692575</td>\n",
              "      <td>43836</td>\n",
              "      <td>73</td>\n",
              "      <td>12</td>\n",
              "      <td>44</td>\n",
              "      <td>0</td>\n",
              "      <td>1</td>\n",
              "      <td>138.130879</td>\n",
              "    </tr>\n",
              "    <tr>\n",
              "      <th>...</th>\n",
              "      <td>...</td>\n",
              "      <td>...</td>\n",
              "      <td>...</td>\n",
              "      <td>...</td>\n",
              "      <td>...</td>\n",
              "      <td>...</td>\n",
              "      <td>...</td>\n",
              "      <td>...</td>\n",
              "    </tr>\n",
              "    <tr>\n",
              "      <th>9129</th>\n",
              "      <td>23405.987980</td>\n",
              "      <td>71941</td>\n",
              "      <td>73</td>\n",
              "      <td>18</td>\n",
              "      <td>89</td>\n",
              "      <td>0</td>\n",
              "      <td>2</td>\n",
              "      <td>198.234764</td>\n",
              "    </tr>\n",
              "    <tr>\n",
              "      <th>9130</th>\n",
              "      <td>3096.511217</td>\n",
              "      <td>21604</td>\n",
              "      <td>79</td>\n",
              "      <td>14</td>\n",
              "      <td>28</td>\n",
              "      <td>0</td>\n",
              "      <td>1</td>\n",
              "      <td>379.200000</td>\n",
              "    </tr>\n",
              "    <tr>\n",
              "      <th>9131</th>\n",
              "      <td>8163.890428</td>\n",
              "      <td>0</td>\n",
              "      <td>85</td>\n",
              "      <td>9</td>\n",
              "      <td>37</td>\n",
              "      <td>3</td>\n",
              "      <td>2</td>\n",
              "      <td>790.784983</td>\n",
              "    </tr>\n",
              "    <tr>\n",
              "      <th>9132</th>\n",
              "      <td>7524.442436</td>\n",
              "      <td>21941</td>\n",
              "      <td>96</td>\n",
              "      <td>34</td>\n",
              "      <td>3</td>\n",
              "      <td>0</td>\n",
              "      <td>3</td>\n",
              "      <td>691.200000</td>\n",
              "    </tr>\n",
              "    <tr>\n",
              "      <th>9133</th>\n",
              "      <td>2611.836866</td>\n",
              "      <td>0</td>\n",
              "      <td>77</td>\n",
              "      <td>3</td>\n",
              "      <td>90</td>\n",
              "      <td>0</td>\n",
              "      <td>1</td>\n",
              "      <td>369.600000</td>\n",
              "    </tr>\n",
              "  </tbody>\n",
              "</table>\n",
              "<p>9134 rows × 8 columns</p>\n",
              "</div>"
            ],
            "text/plain": [
              "      Customer Lifetime Value  Income  ...  Number of Policies  Total Claim Amount\n",
              "0                 2763.519279   56274  ...                   1          384.811147\n",
              "1                 6979.535903       0  ...                   8         1131.464935\n",
              "2                12887.431650   48767  ...                   2          566.472247\n",
              "3                 7645.861827       0  ...                   7          529.881344\n",
              "4                 2813.692575   43836  ...                   1          138.130879\n",
              "...                       ...     ...  ...                 ...                 ...\n",
              "9129             23405.987980   71941  ...                   2          198.234764\n",
              "9130              3096.511217   21604  ...                   1          379.200000\n",
              "9131              8163.890428       0  ...                   2          790.784983\n",
              "9132              7524.442436   21941  ...                   3          691.200000\n",
              "9133              2611.836866       0  ...                   1          369.600000\n",
              "\n",
              "[9134 rows x 8 columns]"
            ]
          },
          "metadata": {
            "tags": []
          },
          "execution_count": 45
        }
      ]
    },
    {
      "cell_type": "code",
      "metadata": {
        "colab": {
          "base_uri": "https://localhost:8080/",
          "height": 643
        },
        "id": "2xaYEwkTqWHz",
        "outputId": "a48b34ec-2429-4d8d-c9ed-cdbda6da65c2"
      },
      "source": [
        "data.select_dtypes(object)"
      ],
      "execution_count": 46,
      "outputs": [
        {
          "output_type": "execute_result",
          "data": {
            "text/html": [
              "<div>\n",
              "<style scoped>\n",
              "    .dataframe tbody tr th:only-of-type {\n",
              "        vertical-align: middle;\n",
              "    }\n",
              "\n",
              "    .dataframe tbody tr th {\n",
              "        vertical-align: top;\n",
              "    }\n",
              "\n",
              "    .dataframe thead th {\n",
              "        text-align: right;\n",
              "    }\n",
              "</style>\n",
              "<table border=\"1\" class=\"dataframe\">\n",
              "  <thead>\n",
              "    <tr style=\"text-align: right;\">\n",
              "      <th></th>\n",
              "      <th>Customer</th>\n",
              "      <th>State</th>\n",
              "      <th>Response</th>\n",
              "      <th>Coverage</th>\n",
              "      <th>Education</th>\n",
              "      <th>Effective To Date</th>\n",
              "      <th>Employment Status</th>\n",
              "      <th>Gender</th>\n",
              "      <th>Location Code</th>\n",
              "      <th>Marital Status</th>\n",
              "      <th>Policy Type</th>\n",
              "      <th>Policy</th>\n",
              "      <th>Renew Offer Type</th>\n",
              "      <th>Sales Channel</th>\n",
              "      <th>Vehicle Class</th>\n",
              "      <th>Vehicle Size</th>\n",
              "    </tr>\n",
              "  </thead>\n",
              "  <tbody>\n",
              "    <tr>\n",
              "      <th>0</th>\n",
              "      <td>BU79786</td>\n",
              "      <td>Washington</td>\n",
              "      <td>No</td>\n",
              "      <td>Basic</td>\n",
              "      <td>Bachelor</td>\n",
              "      <td>2/24/11</td>\n",
              "      <td>Employed</td>\n",
              "      <td>F</td>\n",
              "      <td>Suburban</td>\n",
              "      <td>Married</td>\n",
              "      <td>Corporate Auto</td>\n",
              "      <td>Corporate L3</td>\n",
              "      <td>Offer1</td>\n",
              "      <td>Agent</td>\n",
              "      <td>Two-Door Car</td>\n",
              "      <td>Medsize</td>\n",
              "    </tr>\n",
              "    <tr>\n",
              "      <th>1</th>\n",
              "      <td>QZ44356</td>\n",
              "      <td>Arizona</td>\n",
              "      <td>No</td>\n",
              "      <td>Extended</td>\n",
              "      <td>Bachelor</td>\n",
              "      <td>1/31/11</td>\n",
              "      <td>Unemployed</td>\n",
              "      <td>F</td>\n",
              "      <td>Suburban</td>\n",
              "      <td>Single</td>\n",
              "      <td>Personal Auto</td>\n",
              "      <td>Personal L3</td>\n",
              "      <td>Offer3</td>\n",
              "      <td>Agent</td>\n",
              "      <td>Four-Door Car</td>\n",
              "      <td>Medsize</td>\n",
              "    </tr>\n",
              "    <tr>\n",
              "      <th>2</th>\n",
              "      <td>AI49188</td>\n",
              "      <td>Nevada</td>\n",
              "      <td>No</td>\n",
              "      <td>Premium</td>\n",
              "      <td>Bachelor</td>\n",
              "      <td>2/19/11</td>\n",
              "      <td>Employed</td>\n",
              "      <td>F</td>\n",
              "      <td>Suburban</td>\n",
              "      <td>Married</td>\n",
              "      <td>Personal Auto</td>\n",
              "      <td>Personal L3</td>\n",
              "      <td>Offer1</td>\n",
              "      <td>Agent</td>\n",
              "      <td>Two-Door Car</td>\n",
              "      <td>Medsize</td>\n",
              "    </tr>\n",
              "    <tr>\n",
              "      <th>3</th>\n",
              "      <td>WW63253</td>\n",
              "      <td>California</td>\n",
              "      <td>No</td>\n",
              "      <td>Basic</td>\n",
              "      <td>Bachelor</td>\n",
              "      <td>1/20/11</td>\n",
              "      <td>Unemployed</td>\n",
              "      <td>M</td>\n",
              "      <td>Suburban</td>\n",
              "      <td>Married</td>\n",
              "      <td>Corporate Auto</td>\n",
              "      <td>Corporate L2</td>\n",
              "      <td>Offer1</td>\n",
              "      <td>Call Center</td>\n",
              "      <td>SUV</td>\n",
              "      <td>Medsize</td>\n",
              "    </tr>\n",
              "    <tr>\n",
              "      <th>4</th>\n",
              "      <td>HB64268</td>\n",
              "      <td>Washington</td>\n",
              "      <td>No</td>\n",
              "      <td>Basic</td>\n",
              "      <td>Bachelor</td>\n",
              "      <td>2/3/11</td>\n",
              "      <td>Employed</td>\n",
              "      <td>M</td>\n",
              "      <td>Rural</td>\n",
              "      <td>Single</td>\n",
              "      <td>Personal Auto</td>\n",
              "      <td>Personal L1</td>\n",
              "      <td>Offer1</td>\n",
              "      <td>Agent</td>\n",
              "      <td>Four-Door Car</td>\n",
              "      <td>Medsize</td>\n",
              "    </tr>\n",
              "    <tr>\n",
              "      <th>...</th>\n",
              "      <td>...</td>\n",
              "      <td>...</td>\n",
              "      <td>...</td>\n",
              "      <td>...</td>\n",
              "      <td>...</td>\n",
              "      <td>...</td>\n",
              "      <td>...</td>\n",
              "      <td>...</td>\n",
              "      <td>...</td>\n",
              "      <td>...</td>\n",
              "      <td>...</td>\n",
              "      <td>...</td>\n",
              "      <td>...</td>\n",
              "      <td>...</td>\n",
              "      <td>...</td>\n",
              "      <td>...</td>\n",
              "    </tr>\n",
              "    <tr>\n",
              "      <th>9129</th>\n",
              "      <td>LA72316</td>\n",
              "      <td>California</td>\n",
              "      <td>No</td>\n",
              "      <td>Basic</td>\n",
              "      <td>Bachelor</td>\n",
              "      <td>2/10/11</td>\n",
              "      <td>Employed</td>\n",
              "      <td>M</td>\n",
              "      <td>Urban</td>\n",
              "      <td>Married</td>\n",
              "      <td>Personal Auto</td>\n",
              "      <td>Personal L1</td>\n",
              "      <td>Offer2</td>\n",
              "      <td>Web</td>\n",
              "      <td>Four-Door Car</td>\n",
              "      <td>Medsize</td>\n",
              "    </tr>\n",
              "    <tr>\n",
              "      <th>9130</th>\n",
              "      <td>PK87824</td>\n",
              "      <td>California</td>\n",
              "      <td>Yes</td>\n",
              "      <td>Extended</td>\n",
              "      <td>College</td>\n",
              "      <td>2/12/11</td>\n",
              "      <td>Employed</td>\n",
              "      <td>F</td>\n",
              "      <td>Suburban</td>\n",
              "      <td>Divorced</td>\n",
              "      <td>Corporate Auto</td>\n",
              "      <td>Corporate L3</td>\n",
              "      <td>Offer1</td>\n",
              "      <td>Branch</td>\n",
              "      <td>Four-Door Car</td>\n",
              "      <td>Medsize</td>\n",
              "    </tr>\n",
              "    <tr>\n",
              "      <th>9131</th>\n",
              "      <td>TD14365</td>\n",
              "      <td>California</td>\n",
              "      <td>No</td>\n",
              "      <td>Extended</td>\n",
              "      <td>Bachelor</td>\n",
              "      <td>2/6/11</td>\n",
              "      <td>Unemployed</td>\n",
              "      <td>M</td>\n",
              "      <td>Suburban</td>\n",
              "      <td>Single</td>\n",
              "      <td>Corporate Auto</td>\n",
              "      <td>Corporate L2</td>\n",
              "      <td>Offer1</td>\n",
              "      <td>Branch</td>\n",
              "      <td>Four-Door Car</td>\n",
              "      <td>Medsize</td>\n",
              "    </tr>\n",
              "    <tr>\n",
              "      <th>9132</th>\n",
              "      <td>UP19263</td>\n",
              "      <td>California</td>\n",
              "      <td>No</td>\n",
              "      <td>Extended</td>\n",
              "      <td>College</td>\n",
              "      <td>2/3/11</td>\n",
              "      <td>Employed</td>\n",
              "      <td>M</td>\n",
              "      <td>Suburban</td>\n",
              "      <td>Married</td>\n",
              "      <td>Personal Auto</td>\n",
              "      <td>Personal L2</td>\n",
              "      <td>Offer3</td>\n",
              "      <td>Branch</td>\n",
              "      <td>Four-Door Car</td>\n",
              "      <td>Large</td>\n",
              "    </tr>\n",
              "    <tr>\n",
              "      <th>9133</th>\n",
              "      <td>Y167826</td>\n",
              "      <td>California</td>\n",
              "      <td>No</td>\n",
              "      <td>Extended</td>\n",
              "      <td>College</td>\n",
              "      <td>2/14/11</td>\n",
              "      <td>Unemployed</td>\n",
              "      <td>M</td>\n",
              "      <td>Suburban</td>\n",
              "      <td>Single</td>\n",
              "      <td>Corporate Auto</td>\n",
              "      <td>Corporate L3</td>\n",
              "      <td>Offer4</td>\n",
              "      <td>Call Center</td>\n",
              "      <td>Two-Door Car</td>\n",
              "      <td>Medsize</td>\n",
              "    </tr>\n",
              "  </tbody>\n",
              "</table>\n",
              "<p>9134 rows × 16 columns</p>\n",
              "</div>"
            ],
            "text/plain": [
              "     Customer       State Response  ... Sales Channel  Vehicle Class Vehicle Size\n",
              "0     BU79786  Washington       No  ...         Agent   Two-Door Car      Medsize\n",
              "1     QZ44356     Arizona       No  ...         Agent  Four-Door Car      Medsize\n",
              "2     AI49188      Nevada       No  ...         Agent   Two-Door Car      Medsize\n",
              "3     WW63253  California       No  ...   Call Center            SUV      Medsize\n",
              "4     HB64268  Washington       No  ...         Agent  Four-Door Car      Medsize\n",
              "...       ...         ...      ...  ...           ...            ...          ...\n",
              "9129  LA72316  California       No  ...           Web  Four-Door Car      Medsize\n",
              "9130  PK87824  California      Yes  ...        Branch  Four-Door Car      Medsize\n",
              "9131  TD14365  California       No  ...        Branch  Four-Door Car      Medsize\n",
              "9132  UP19263  California       No  ...        Branch  Four-Door Car        Large\n",
              "9133  Y167826  California       No  ...   Call Center   Two-Door Car      Medsize\n",
              "\n",
              "[9134 rows x 16 columns]"
            ]
          },
          "metadata": {
            "tags": []
          },
          "execution_count": 46
        }
      ]
    },
    {
      "cell_type": "code",
      "metadata": {
        "id": "bIHTsJaUqd3p"
      },
      "source": [
        "numerical = data.select_dtypes(include=np.number)\n",
        "categoricals = data.select_dtypes(include=np.object)"
      ],
      "execution_count": 47,
      "outputs": []
    },
    {
      "cell_type": "code",
      "metadata": {
        "colab": {
          "base_uri": "https://localhost:8080/",
          "height": 660
        },
        "id": "tnpEn6LsqhII",
        "outputId": "c444620e-df4e-4042-8fba-b4b42e53a0ac"
      },
      "source": [
        "summary = data\n",
        "summary['Total Claim Amount'] = list(map(lambda x: round(x,2), summary['Total Claim Amount']))\n",
        "summary"
      ],
      "execution_count": 48,
      "outputs": [
        {
          "output_type": "execute_result",
          "data": {
            "text/html": [
              "<div>\n",
              "<style scoped>\n",
              "    .dataframe tbody tr th:only-of-type {\n",
              "        vertical-align: middle;\n",
              "    }\n",
              "\n",
              "    .dataframe tbody tr th {\n",
              "        vertical-align: top;\n",
              "    }\n",
              "\n",
              "    .dataframe thead th {\n",
              "        text-align: right;\n",
              "    }\n",
              "</style>\n",
              "<table border=\"1\" class=\"dataframe\">\n",
              "  <thead>\n",
              "    <tr style=\"text-align: right;\">\n",
              "      <th></th>\n",
              "      <th>Customer</th>\n",
              "      <th>State</th>\n",
              "      <th>Customer Lifetime Value</th>\n",
              "      <th>Response</th>\n",
              "      <th>Coverage</th>\n",
              "      <th>Education</th>\n",
              "      <th>Effective To Date</th>\n",
              "      <th>Employment Status</th>\n",
              "      <th>Gender</th>\n",
              "      <th>Income</th>\n",
              "      <th>Location Code</th>\n",
              "      <th>Marital Status</th>\n",
              "      <th>Monthly Premium Auto</th>\n",
              "      <th>Months Since Last Claim</th>\n",
              "      <th>Months Since Policy Inception</th>\n",
              "      <th>Number of Open Complaints</th>\n",
              "      <th>Number of Policies</th>\n",
              "      <th>Policy Type</th>\n",
              "      <th>Policy</th>\n",
              "      <th>Renew Offer Type</th>\n",
              "      <th>Sales Channel</th>\n",
              "      <th>Total Claim Amount</th>\n",
              "      <th>Vehicle Class</th>\n",
              "      <th>Vehicle Size</th>\n",
              "    </tr>\n",
              "  </thead>\n",
              "  <tbody>\n",
              "    <tr>\n",
              "      <th>0</th>\n",
              "      <td>BU79786</td>\n",
              "      <td>Washington</td>\n",
              "      <td>2763.519279</td>\n",
              "      <td>No</td>\n",
              "      <td>Basic</td>\n",
              "      <td>Bachelor</td>\n",
              "      <td>2/24/11</td>\n",
              "      <td>Employed</td>\n",
              "      <td>F</td>\n",
              "      <td>56274</td>\n",
              "      <td>Suburban</td>\n",
              "      <td>Married</td>\n",
              "      <td>69</td>\n",
              "      <td>32</td>\n",
              "      <td>5</td>\n",
              "      <td>0</td>\n",
              "      <td>1</td>\n",
              "      <td>Corporate Auto</td>\n",
              "      <td>Corporate L3</td>\n",
              "      <td>Offer1</td>\n",
              "      <td>Agent</td>\n",
              "      <td>384.81</td>\n",
              "      <td>Two-Door Car</td>\n",
              "      <td>Medsize</td>\n",
              "    </tr>\n",
              "    <tr>\n",
              "      <th>1</th>\n",
              "      <td>QZ44356</td>\n",
              "      <td>Arizona</td>\n",
              "      <td>6979.535903</td>\n",
              "      <td>No</td>\n",
              "      <td>Extended</td>\n",
              "      <td>Bachelor</td>\n",
              "      <td>1/31/11</td>\n",
              "      <td>Unemployed</td>\n",
              "      <td>F</td>\n",
              "      <td>0</td>\n",
              "      <td>Suburban</td>\n",
              "      <td>Single</td>\n",
              "      <td>94</td>\n",
              "      <td>13</td>\n",
              "      <td>42</td>\n",
              "      <td>0</td>\n",
              "      <td>8</td>\n",
              "      <td>Personal Auto</td>\n",
              "      <td>Personal L3</td>\n",
              "      <td>Offer3</td>\n",
              "      <td>Agent</td>\n",
              "      <td>1131.46</td>\n",
              "      <td>Four-Door Car</td>\n",
              "      <td>Medsize</td>\n",
              "    </tr>\n",
              "    <tr>\n",
              "      <th>2</th>\n",
              "      <td>AI49188</td>\n",
              "      <td>Nevada</td>\n",
              "      <td>12887.431650</td>\n",
              "      <td>No</td>\n",
              "      <td>Premium</td>\n",
              "      <td>Bachelor</td>\n",
              "      <td>2/19/11</td>\n",
              "      <td>Employed</td>\n",
              "      <td>F</td>\n",
              "      <td>48767</td>\n",
              "      <td>Suburban</td>\n",
              "      <td>Married</td>\n",
              "      <td>108</td>\n",
              "      <td>18</td>\n",
              "      <td>38</td>\n",
              "      <td>0</td>\n",
              "      <td>2</td>\n",
              "      <td>Personal Auto</td>\n",
              "      <td>Personal L3</td>\n",
              "      <td>Offer1</td>\n",
              "      <td>Agent</td>\n",
              "      <td>566.47</td>\n",
              "      <td>Two-Door Car</td>\n",
              "      <td>Medsize</td>\n",
              "    </tr>\n",
              "    <tr>\n",
              "      <th>3</th>\n",
              "      <td>WW63253</td>\n",
              "      <td>California</td>\n",
              "      <td>7645.861827</td>\n",
              "      <td>No</td>\n",
              "      <td>Basic</td>\n",
              "      <td>Bachelor</td>\n",
              "      <td>1/20/11</td>\n",
              "      <td>Unemployed</td>\n",
              "      <td>M</td>\n",
              "      <td>0</td>\n",
              "      <td>Suburban</td>\n",
              "      <td>Married</td>\n",
              "      <td>106</td>\n",
              "      <td>18</td>\n",
              "      <td>65</td>\n",
              "      <td>0</td>\n",
              "      <td>7</td>\n",
              "      <td>Corporate Auto</td>\n",
              "      <td>Corporate L2</td>\n",
              "      <td>Offer1</td>\n",
              "      <td>Call Center</td>\n",
              "      <td>529.88</td>\n",
              "      <td>SUV</td>\n",
              "      <td>Medsize</td>\n",
              "    </tr>\n",
              "    <tr>\n",
              "      <th>4</th>\n",
              "      <td>HB64268</td>\n",
              "      <td>Washington</td>\n",
              "      <td>2813.692575</td>\n",
              "      <td>No</td>\n",
              "      <td>Basic</td>\n",
              "      <td>Bachelor</td>\n",
              "      <td>2/3/11</td>\n",
              "      <td>Employed</td>\n",
              "      <td>M</td>\n",
              "      <td>43836</td>\n",
              "      <td>Rural</td>\n",
              "      <td>Single</td>\n",
              "      <td>73</td>\n",
              "      <td>12</td>\n",
              "      <td>44</td>\n",
              "      <td>0</td>\n",
              "      <td>1</td>\n",
              "      <td>Personal Auto</td>\n",
              "      <td>Personal L1</td>\n",
              "      <td>Offer1</td>\n",
              "      <td>Agent</td>\n",
              "      <td>138.13</td>\n",
              "      <td>Four-Door Car</td>\n",
              "      <td>Medsize</td>\n",
              "    </tr>\n",
              "    <tr>\n",
              "      <th>...</th>\n",
              "      <td>...</td>\n",
              "      <td>...</td>\n",
              "      <td>...</td>\n",
              "      <td>...</td>\n",
              "      <td>...</td>\n",
              "      <td>...</td>\n",
              "      <td>...</td>\n",
              "      <td>...</td>\n",
              "      <td>...</td>\n",
              "      <td>...</td>\n",
              "      <td>...</td>\n",
              "      <td>...</td>\n",
              "      <td>...</td>\n",
              "      <td>...</td>\n",
              "      <td>...</td>\n",
              "      <td>...</td>\n",
              "      <td>...</td>\n",
              "      <td>...</td>\n",
              "      <td>...</td>\n",
              "      <td>...</td>\n",
              "      <td>...</td>\n",
              "      <td>...</td>\n",
              "      <td>...</td>\n",
              "      <td>...</td>\n",
              "    </tr>\n",
              "    <tr>\n",
              "      <th>9129</th>\n",
              "      <td>LA72316</td>\n",
              "      <td>California</td>\n",
              "      <td>23405.987980</td>\n",
              "      <td>No</td>\n",
              "      <td>Basic</td>\n",
              "      <td>Bachelor</td>\n",
              "      <td>2/10/11</td>\n",
              "      <td>Employed</td>\n",
              "      <td>M</td>\n",
              "      <td>71941</td>\n",
              "      <td>Urban</td>\n",
              "      <td>Married</td>\n",
              "      <td>73</td>\n",
              "      <td>18</td>\n",
              "      <td>89</td>\n",
              "      <td>0</td>\n",
              "      <td>2</td>\n",
              "      <td>Personal Auto</td>\n",
              "      <td>Personal L1</td>\n",
              "      <td>Offer2</td>\n",
              "      <td>Web</td>\n",
              "      <td>198.23</td>\n",
              "      <td>Four-Door Car</td>\n",
              "      <td>Medsize</td>\n",
              "    </tr>\n",
              "    <tr>\n",
              "      <th>9130</th>\n",
              "      <td>PK87824</td>\n",
              "      <td>California</td>\n",
              "      <td>3096.511217</td>\n",
              "      <td>Yes</td>\n",
              "      <td>Extended</td>\n",
              "      <td>College</td>\n",
              "      <td>2/12/11</td>\n",
              "      <td>Employed</td>\n",
              "      <td>F</td>\n",
              "      <td>21604</td>\n",
              "      <td>Suburban</td>\n",
              "      <td>Divorced</td>\n",
              "      <td>79</td>\n",
              "      <td>14</td>\n",
              "      <td>28</td>\n",
              "      <td>0</td>\n",
              "      <td>1</td>\n",
              "      <td>Corporate Auto</td>\n",
              "      <td>Corporate L3</td>\n",
              "      <td>Offer1</td>\n",
              "      <td>Branch</td>\n",
              "      <td>379.20</td>\n",
              "      <td>Four-Door Car</td>\n",
              "      <td>Medsize</td>\n",
              "    </tr>\n",
              "    <tr>\n",
              "      <th>9131</th>\n",
              "      <td>TD14365</td>\n",
              "      <td>California</td>\n",
              "      <td>8163.890428</td>\n",
              "      <td>No</td>\n",
              "      <td>Extended</td>\n",
              "      <td>Bachelor</td>\n",
              "      <td>2/6/11</td>\n",
              "      <td>Unemployed</td>\n",
              "      <td>M</td>\n",
              "      <td>0</td>\n",
              "      <td>Suburban</td>\n",
              "      <td>Single</td>\n",
              "      <td>85</td>\n",
              "      <td>9</td>\n",
              "      <td>37</td>\n",
              "      <td>3</td>\n",
              "      <td>2</td>\n",
              "      <td>Corporate Auto</td>\n",
              "      <td>Corporate L2</td>\n",
              "      <td>Offer1</td>\n",
              "      <td>Branch</td>\n",
              "      <td>790.78</td>\n",
              "      <td>Four-Door Car</td>\n",
              "      <td>Medsize</td>\n",
              "    </tr>\n",
              "    <tr>\n",
              "      <th>9132</th>\n",
              "      <td>UP19263</td>\n",
              "      <td>California</td>\n",
              "      <td>7524.442436</td>\n",
              "      <td>No</td>\n",
              "      <td>Extended</td>\n",
              "      <td>College</td>\n",
              "      <td>2/3/11</td>\n",
              "      <td>Employed</td>\n",
              "      <td>M</td>\n",
              "      <td>21941</td>\n",
              "      <td>Suburban</td>\n",
              "      <td>Married</td>\n",
              "      <td>96</td>\n",
              "      <td>34</td>\n",
              "      <td>3</td>\n",
              "      <td>0</td>\n",
              "      <td>3</td>\n",
              "      <td>Personal Auto</td>\n",
              "      <td>Personal L2</td>\n",
              "      <td>Offer3</td>\n",
              "      <td>Branch</td>\n",
              "      <td>691.20</td>\n",
              "      <td>Four-Door Car</td>\n",
              "      <td>Large</td>\n",
              "    </tr>\n",
              "    <tr>\n",
              "      <th>9133</th>\n",
              "      <td>Y167826</td>\n",
              "      <td>California</td>\n",
              "      <td>2611.836866</td>\n",
              "      <td>No</td>\n",
              "      <td>Extended</td>\n",
              "      <td>College</td>\n",
              "      <td>2/14/11</td>\n",
              "      <td>Unemployed</td>\n",
              "      <td>M</td>\n",
              "      <td>0</td>\n",
              "      <td>Suburban</td>\n",
              "      <td>Single</td>\n",
              "      <td>77</td>\n",
              "      <td>3</td>\n",
              "      <td>90</td>\n",
              "      <td>0</td>\n",
              "      <td>1</td>\n",
              "      <td>Corporate Auto</td>\n",
              "      <td>Corporate L3</td>\n",
              "      <td>Offer4</td>\n",
              "      <td>Call Center</td>\n",
              "      <td>369.60</td>\n",
              "      <td>Two-Door Car</td>\n",
              "      <td>Medsize</td>\n",
              "    </tr>\n",
              "  </tbody>\n",
              "</table>\n",
              "<p>9134 rows × 24 columns</p>\n",
              "</div>"
            ],
            "text/plain": [
              "     Customer       State  ...  Vehicle Class Vehicle Size\n",
              "0     BU79786  Washington  ...   Two-Door Car      Medsize\n",
              "1     QZ44356     Arizona  ...  Four-Door Car      Medsize\n",
              "2     AI49188      Nevada  ...   Two-Door Car      Medsize\n",
              "3     WW63253  California  ...            SUV      Medsize\n",
              "4     HB64268  Washington  ...  Four-Door Car      Medsize\n",
              "...       ...         ...  ...            ...          ...\n",
              "9129  LA72316  California  ...  Four-Door Car      Medsize\n",
              "9130  PK87824  California  ...  Four-Door Car      Medsize\n",
              "9131  TD14365  California  ...  Four-Door Car      Medsize\n",
              "9132  UP19263  California  ...  Four-Door Car        Large\n",
              "9133  Y167826  California  ...   Two-Door Car      Medsize\n",
              "\n",
              "[9134 rows x 24 columns]"
            ]
          },
          "metadata": {
            "tags": []
          },
          "execution_count": 48
        }
      ]
    },
    {
      "cell_type": "markdown",
      "metadata": {
        "id": "bljN-GFqzGgV"
      },
      "source": [
        "**Exploratory**"
      ]
    },
    {
      "cell_type": "markdown",
      "metadata": {
        "id": "2xLK-zhvzKun"
      },
      "source": [
        "- Example 1: Show a plot of the response rate by the sales channel.¶\n"
      ]
    },
    {
      "cell_type": "code",
      "metadata": {
        "colab": {
          "base_uri": "https://localhost:8080/",
          "height": 279
        },
        "id": "VVa9SZU5qzD8",
        "outputId": "54316db8-180d-44f0-bbc6-126d658c5bab"
      },
      "source": [
        "\n",
        "\n",
        "import matplotlib.pyplot as plt\n",
        "%matplotlib inline\n",
        "import seaborn as sns\n",
        "\n",
        "ax2 = sns.countplot(x='Response', data=data, hue='Sales Channel')"
      ],
      "execution_count": 49,
      "outputs": [
        {
          "output_type": "display_data",
          "data": {
            "image/png": "[encoded data removed]",
            "text/plain": [
              "<Figure size 432x288 with 1 Axes>"
            ]
          },
          "metadata": {
            "tags": [],
            "needs_background": "light"
          }
        }
      ]
    },
    {
      "cell_type": "markdown",
      "metadata": {
        "id": "gXqsuS0ZzNMJ"
      },
      "source": [
        "- Example 2: Show a plot of the response rate by income."
      ]
    },
    {
      "cell_type": "code",
      "metadata": {
        "colab": {
          "base_uri": "https://localhost:8080/",
          "height": 296
        },
        "id": "RdeFb2EHrL0O",
        "outputId": "1cc616b6-ad63-4f02-93c4-85d2e450440a"
      },
      "source": [
        "sns.violinplot(x= 'Response',y='Income', data=data)"
      ],
      "execution_count": 50,
      "outputs": [
        {
          "output_type": "execute_result",
          "data": {
            "text/plain": [
              "<matplotlib.axes._subplots.AxesSubplot at 0x7f329f98a990>"
            ]
          },
          "metadata": {
            "tags": []
          },
          "execution_count": 50
        },
        {
          "output_type": "display_data",
          "data": {
            "image/png": "[encoded data removed]",
            "text/plain": [
              "<Figure size 432x288 with 1 Axes>"
            ]
          },
          "metadata": {
            "tags": [],
            "needs_background": "light"
          }
        }
      ]
    },
    {
      "cell_type": "markdown",
      "metadata": {
        "id": "2ridFHL1rbRd"
      },
      "source": [
        "### **04 - Processing Data**\n",
        "- Dealing with outliers.\n",
        "- Normalization.\n",
        "- Encoding Categorical Data.\n",
        "- Splitting into train set and test set.\n"
      ]
    },
    {
      "cell_type": "markdown",
      "metadata": {
        "id": "SHLzsYIwzBs0"
      },
      "source": [
        "**Dealing with outliers**"
      ]
    },
    {
      "cell_type": "code",
      "metadata": {
        "colab": {
          "base_uri": "https://localhost:8080/",
          "height": 369
        },
        "id": "5AAug4KosGRh",
        "outputId": "d97612cc-82a7-45de-8cc8-1de2f4e45129"
      },
      "source": [
        "sns.displot(data['Total Claim Amount'])\n",
        "plt.show()"
      ],
      "execution_count": 51,
      "outputs": [
        {
          "output_type": "display_data",
          "data": {
            "image/png": "[encoded data removed]",
            "text/plain": [
              "<Figure size 360x360 with 1 Axes>"
            ]
          },
          "metadata": {
            "tags": [],
            "needs_background": "light"
          }
        }
      ]
    },
    {
      "cell_type": "code",
      "metadata": {
        "id": "RA4zPApRy15L"
      },
      "source": [
        "iqr1 = np.percentile(numerical['Total Claim Amount'],75) - np.percentile(numerical['Total Claim Amount'],25)\n",
        "upper_limit = np.percentile(numerical['Total Claim Amount'],75) + 1.5*iqr1\n",
        "lower_limit = np.percentile(numerical['Total Claim Amount'],25) - 1.5*iqr1\n",
        "numerical = numerical[(numerical['Total Claim Amount']>lower_limit) & (numerical['Total Claim Amount']<upper_limit)]\n"
      ],
      "execution_count": 109,
      "outputs": []
    },
    {
      "cell_type": "markdown",
      "metadata": {
        "id": "jtf_Y8t2y5U-"
      },
      "source": [
        "**Normalization**"
      ]
    },
    {
      "cell_type": "code",
      "metadata": {
        "colab": {
          "base_uri": "https://localhost:8080/",
          "height": 369
        },
        "id": "GEo6W1tosfiU",
        "outputId": "b8520c51-e9d6-4d8b-e915-5110c66891a9"
      },
      "source": [
        "from scipy import stats\n",
        "xt, lmbda = stats.boxcox(data['Total Claim Amount'])\n",
        "sns.displot(xt)\n",
        "plt.show()"
      ],
      "execution_count": 52,
      "outputs": [
        {
          "output_type": "display_data",
          "data": {
            "image/png": "[encoded data removed]",
            "text/plain": [
              "<Figure size 360x360 with 1 Axes>"
            ]
          },
          "metadata": {
            "tags": [],
            "needs_background": "light"
          }
        }
      ]
    },
    {
      "cell_type": "markdown",
      "metadata": {
        "id": "3SQcL2zIysPY"
      },
      "source": [
        "**Encoding categorical variables**"
      ]
    },
    {
      "cell_type": "code",
      "metadata": {
        "colab": {
          "base_uri": "https://localhost:8080/",
          "height": 255
        },
        "id": "dLvJDfMgrW0r",
        "outputId": "bfce0cbc-0dad-4977-eaa5-4017781f2bb7"
      },
      "source": [
        "numerical = data.select_dtypes(include=np.number)\n",
        "categorical = data.select_dtypes(include=np.object)\n",
        "numerical.head()"
      ],
      "execution_count": 53,
      "outputs": [
        {
          "output_type": "execute_result",
          "data": {
            "text/html": [
              "<div>\n",
              "<style scoped>\n",
              "    .dataframe tbody tr th:only-of-type {\n",
              "        vertical-align: middle;\n",
              "    }\n",
              "\n",
              "    .dataframe tbody tr th {\n",
              "        vertical-align: top;\n",
              "    }\n",
              "\n",
              "    .dataframe thead th {\n",
              "        text-align: right;\n",
              "    }\n",
              "</style>\n",
              "<table border=\"1\" class=\"dataframe\">\n",
              "  <thead>\n",
              "    <tr style=\"text-align: right;\">\n",
              "      <th></th>\n",
              "      <th>Customer Lifetime Value</th>\n",
              "      <th>Income</th>\n",
              "      <th>Monthly Premium Auto</th>\n",
              "      <th>Months Since Last Claim</th>\n",
              "      <th>Months Since Policy Inception</th>\n",
              "      <th>Number of Open Complaints</th>\n",
              "      <th>Number of Policies</th>\n",
              "      <th>Total Claim Amount</th>\n",
              "    </tr>\n",
              "  </thead>\n",
              "  <tbody>\n",
              "    <tr>\n",
              "      <th>0</th>\n",
              "      <td>2763.519279</td>\n",
              "      <td>56274</td>\n",
              "      <td>69</td>\n",
              "      <td>32</td>\n",
              "      <td>5</td>\n",
              "      <td>0</td>\n",
              "      <td>1</td>\n",
              "      <td>384.81</td>\n",
              "    </tr>\n",
              "    <tr>\n",
              "      <th>1</th>\n",
              "      <td>6979.535903</td>\n",
              "      <td>0</td>\n",
              "      <td>94</td>\n",
              "      <td>13</td>\n",
              "      <td>42</td>\n",
              "      <td>0</td>\n",
              "      <td>8</td>\n",
              "      <td>1131.46</td>\n",
              "    </tr>\n",
              "    <tr>\n",
              "      <th>2</th>\n",
              "      <td>12887.431650</td>\n",
              "      <td>48767</td>\n",
              "      <td>108</td>\n",
              "      <td>18</td>\n",
              "      <td>38</td>\n",
              "      <td>0</td>\n",
              "      <td>2</td>\n",
              "      <td>566.47</td>\n",
              "    </tr>\n",
              "    <tr>\n",
              "      <th>3</th>\n",
              "      <td>7645.861827</td>\n",
              "      <td>0</td>\n",
              "      <td>106</td>\n",
              "      <td>18</td>\n",
              "      <td>65</td>\n",
              "      <td>0</td>\n",
              "      <td>7</td>\n",
              "      <td>529.88</td>\n",
              "    </tr>\n",
              "    <tr>\n",
              "      <th>4</th>\n",
              "      <td>2813.692575</td>\n",
              "      <td>43836</td>\n",
              "      <td>73</td>\n",
              "      <td>12</td>\n",
              "      <td>44</td>\n",
              "      <td>0</td>\n",
              "      <td>1</td>\n",
              "      <td>138.13</td>\n",
              "    </tr>\n",
              "  </tbody>\n",
              "</table>\n",
              "</div>"
            ],
            "text/plain": [
              "   Customer Lifetime Value  Income  ...  Number of Policies  Total Claim Amount\n",
              "0              2763.519279   56274  ...                   1              384.81\n",
              "1              6979.535903       0  ...                   8             1131.46\n",
              "2             12887.431650   48767  ...                   2              566.47\n",
              "3              7645.861827       0  ...                   7              529.88\n",
              "4              2813.692575   43836  ...                   1              138.13\n",
              "\n",
              "[5 rows x 8 columns]"
            ]
          },
          "metadata": {
            "tags": []
          },
          "execution_count": 53
        }
      ]
    },
    {
      "cell_type": "code",
      "metadata": {
        "colab": {
          "base_uri": "https://localhost:8080/"
        },
        "id": "Md2DKvSIsk4s",
        "outputId": "45ebe61a-e27c-4188-bfc4-518a26c6ecc6"
      },
      "source": [
        "categorical.columns"
      ],
      "execution_count": 54,
      "outputs": [
        {
          "output_type": "execute_result",
          "data": {
            "text/plain": [
              "Index(['Customer', 'State', 'Response', 'Coverage', 'Education',\n",
              "       'Effective To Date', 'Employment Status', 'Gender', 'Location Code',\n",
              "       'Marital Status', 'Policy Type', 'Policy', 'Renew Offer Type',\n",
              "       'Sales Channel', 'Vehicle Class', 'Vehicle Size'],\n",
              "      dtype='object')"
            ]
          },
          "metadata": {
            "tags": []
          },
          "execution_count": 54
        }
      ]
    },
    {
      "cell_type": "code",
      "metadata": {
        "colab": {
          "base_uri": "https://localhost:8080/",
          "height": 204
        },
        "id": "7BkNdu9DtAVr",
        "outputId": "3330b170-1165-44a7-8a46-4885527110e2"
      },
      "source": [
        "reduced_categorical = categorical[['Coverage']]\n",
        "\n",
        "reduced_categorical.head()"
      ],
      "execution_count": 55,
      "outputs": [
        {
          "output_type": "execute_result",
          "data": {
            "text/html": [
              "<div>\n",
              "<style scoped>\n",
              "    .dataframe tbody tr th:only-of-type {\n",
              "        vertical-align: middle;\n",
              "    }\n",
              "\n",
              "    .dataframe tbody tr th {\n",
              "        vertical-align: top;\n",
              "    }\n",
              "\n",
              "    .dataframe thead th {\n",
              "        text-align: right;\n",
              "    }\n",
              "</style>\n",
              "<table border=\"1\" class=\"dataframe\">\n",
              "  <thead>\n",
              "    <tr style=\"text-align: right;\">\n",
              "      <th></th>\n",
              "      <th>Coverage</th>\n",
              "    </tr>\n",
              "  </thead>\n",
              "  <tbody>\n",
              "    <tr>\n",
              "      <th>0</th>\n",
              "      <td>Basic</td>\n",
              "    </tr>\n",
              "    <tr>\n",
              "      <th>1</th>\n",
              "      <td>Extended</td>\n",
              "    </tr>\n",
              "    <tr>\n",
              "      <th>2</th>\n",
              "      <td>Premium</td>\n",
              "    </tr>\n",
              "    <tr>\n",
              "      <th>3</th>\n",
              "      <td>Basic</td>\n",
              "    </tr>\n",
              "    <tr>\n",
              "      <th>4</th>\n",
              "      <td>Basic</td>\n",
              "    </tr>\n",
              "  </tbody>\n",
              "</table>\n",
              "</div>"
            ],
            "text/plain": [
              "   Coverage\n",
              "0     Basic\n",
              "1  Extended\n",
              "2   Premium\n",
              "3     Basic\n",
              "4     Basic"
            ]
          },
          "metadata": {
            "tags": []
          },
          "execution_count": 55
        }
      ]
    },
    {
      "cell_type": "code",
      "metadata": {
        "colab": {
          "base_uri": "https://localhost:8080/"
        },
        "id": "wVp6_Xm2tPTq",
        "outputId": "bd479058-489e-429f-c406-6dc504da7a64"
      },
      "source": [
        "reduced_categorical.value_counts()"
      ],
      "execution_count": 56,
      "outputs": [
        {
          "output_type": "execute_result",
          "data": {
            "text/plain": [
              "Coverage\n",
              "Basic       5568\n",
              "Extended    2742\n",
              "Premium      824\n",
              "dtype: int64"
            ]
          },
          "metadata": {
            "tags": []
          },
          "execution_count": 56
        }
      ]
    },
    {
      "cell_type": "code",
      "metadata": {
        "colab": {
          "base_uri": "https://localhost:8080/",
          "height": 419
        },
        "id": "IPvWG6SutSiC",
        "outputId": "aff82b1d-5f0c-43b6-cbf5-a48bc47c863e"
      },
      "source": [
        "from sklearn.preprocessing import OneHotEncoder \n",
        "\n",
        "encoder = OneHotEncoder().fit(reduced_categorical)\n",
        "\n",
        "pd.DataFrame(encoder.transform(reduced_categorical).toarray(),columns=encoder.categories_)"
      ],
      "execution_count": 57,
      "outputs": [
        {
          "output_type": "execute_result",
          "data": {
            "text/html": [
              "<div>\n",
              "<style scoped>\n",
              "    .dataframe tbody tr th:only-of-type {\n",
              "        vertical-align: middle;\n",
              "    }\n",
              "\n",
              "    .dataframe tbody tr th {\n",
              "        vertical-align: top;\n",
              "    }\n",
              "\n",
              "    .dataframe thead tr th {\n",
              "        text-align: left;\n",
              "    }\n",
              "</style>\n",
              "<table border=\"1\" class=\"dataframe\">\n",
              "  <thead>\n",
              "    <tr>\n",
              "      <th></th>\n",
              "      <th>Basic</th>\n",
              "      <th>Extended</th>\n",
              "      <th>Premium</th>\n",
              "    </tr>\n",
              "  </thead>\n",
              "  <tbody>\n",
              "    <tr>\n",
              "      <th>0</th>\n",
              "      <td>1.0</td>\n",
              "      <td>0.0</td>\n",
              "      <td>0.0</td>\n",
              "    </tr>\n",
              "    <tr>\n",
              "      <th>1</th>\n",
              "      <td>0.0</td>\n",
              "      <td>1.0</td>\n",
              "      <td>0.0</td>\n",
              "    </tr>\n",
              "    <tr>\n",
              "      <th>2</th>\n",
              "      <td>0.0</td>\n",
              "      <td>0.0</td>\n",
              "      <td>1.0</td>\n",
              "    </tr>\n",
              "    <tr>\n",
              "      <th>3</th>\n",
              "      <td>1.0</td>\n",
              "      <td>0.0</td>\n",
              "      <td>0.0</td>\n",
              "    </tr>\n",
              "    <tr>\n",
              "      <th>4</th>\n",
              "      <td>1.0</td>\n",
              "      <td>0.0</td>\n",
              "      <td>0.0</td>\n",
              "    </tr>\n",
              "    <tr>\n",
              "      <th>...</th>\n",
              "      <td>...</td>\n",
              "      <td>...</td>\n",
              "      <td>...</td>\n",
              "    </tr>\n",
              "    <tr>\n",
              "      <th>9129</th>\n",
              "      <td>1.0</td>\n",
              "      <td>0.0</td>\n",
              "      <td>0.0</td>\n",
              "    </tr>\n",
              "    <tr>\n",
              "      <th>9130</th>\n",
              "      <td>0.0</td>\n",
              "      <td>1.0</td>\n",
              "      <td>0.0</td>\n",
              "    </tr>\n",
              "    <tr>\n",
              "      <th>9131</th>\n",
              "      <td>0.0</td>\n",
              "      <td>1.0</td>\n",
              "      <td>0.0</td>\n",
              "    </tr>\n",
              "    <tr>\n",
              "      <th>9132</th>\n",
              "      <td>0.0</td>\n",
              "      <td>1.0</td>\n",
              "      <td>0.0</td>\n",
              "    </tr>\n",
              "    <tr>\n",
              "      <th>9133</th>\n",
              "      <td>0.0</td>\n",
              "      <td>1.0</td>\n",
              "      <td>0.0</td>\n",
              "    </tr>\n",
              "  </tbody>\n",
              "</table>\n",
              "<p>9134 rows × 3 columns</p>\n",
              "</div>"
            ],
            "text/plain": [
              "     Basic Extended Premium\n",
              "0      1.0      0.0     0.0\n",
              "1      0.0      1.0     0.0\n",
              "2      0.0      0.0     1.0\n",
              "3      1.0      0.0     0.0\n",
              "4      1.0      0.0     0.0\n",
              "...    ...      ...     ...\n",
              "9129   1.0      0.0     0.0\n",
              "9130   0.0      1.0     0.0\n",
              "9131   0.0      1.0     0.0\n",
              "9132   0.0      1.0     0.0\n",
              "9133   0.0      1.0     0.0\n",
              "\n",
              "[9134 rows x 3 columns]"
            ]
          },
          "metadata": {
            "tags": []
          },
          "execution_count": 57
        }
      ]
    },
    {
      "cell_type": "code",
      "metadata": {
        "colab": {
          "base_uri": "https://localhost:8080/",
          "height": 204
        },
        "id": "U7wX6y-YtVhR",
        "outputId": "1d2916d7-ca43-4c61-803c-e199efb84c93"
      },
      "source": [
        "one_hot_encoded = pd.DataFrame(encoder.transform(reduced_categorical).toarray(),columns=encoder.categories_).drop(['Premium'],axis=1)\n",
        "one_hot_encoded.head()"
      ],
      "execution_count": 58,
      "outputs": [
        {
          "output_type": "execute_result",
          "data": {
            "text/html": [
              "<div>\n",
              "<style scoped>\n",
              "    .dataframe tbody tr th:only-of-type {\n",
              "        vertical-align: middle;\n",
              "    }\n",
              "\n",
              "    .dataframe tbody tr th {\n",
              "        vertical-align: top;\n",
              "    }\n",
              "\n",
              "    .dataframe thead tr th {\n",
              "        text-align: left;\n",
              "    }\n",
              "</style>\n",
              "<table border=\"1\" class=\"dataframe\">\n",
              "  <thead>\n",
              "    <tr>\n",
              "      <th></th>\n",
              "      <th>Basic</th>\n",
              "      <th>Extended</th>\n",
              "    </tr>\n",
              "  </thead>\n",
              "  <tbody>\n",
              "    <tr>\n",
              "      <th>0</th>\n",
              "      <td>1.0</td>\n",
              "      <td>0.0</td>\n",
              "    </tr>\n",
              "    <tr>\n",
              "      <th>1</th>\n",
              "      <td>0.0</td>\n",
              "      <td>1.0</td>\n",
              "    </tr>\n",
              "    <tr>\n",
              "      <th>2</th>\n",
              "      <td>0.0</td>\n",
              "      <td>0.0</td>\n",
              "    </tr>\n",
              "    <tr>\n",
              "      <th>3</th>\n",
              "      <td>1.0</td>\n",
              "      <td>0.0</td>\n",
              "    </tr>\n",
              "    <tr>\n",
              "      <th>4</th>\n",
              "      <td>1.0</td>\n",
              "      <td>0.0</td>\n",
              "    </tr>\n",
              "  </tbody>\n",
              "</table>\n",
              "</div>"
            ],
            "text/plain": [
              "  Basic Extended\n",
              "0   1.0      0.0\n",
              "1   0.0      1.0\n",
              "2   0.0      0.0\n",
              "3   1.0      0.0\n",
              "4   1.0      0.0"
            ]
          },
          "metadata": {
            "tags": []
          },
          "execution_count": 58
        }
      ]
    },
    {
      "cell_type": "code",
      "metadata": {
        "colab": {
          "base_uri": "https://localhost:8080/"
        },
        "id": "DdD52AbytYmi",
        "outputId": "a70affaa-cb54-4f6d-cc34-bf41558054c1"
      },
      "source": [
        "from sklearn.preprocessing import LabelEncoder\n",
        "label_encoded = LabelEncoder().fit(reduced_categorical).transform(reduced_categorical)\n",
        "label_encoded = pd.DataFrame(label_encoded,columns=reduced_categorical.columns)\n",
        "print(label_encoded)\n",
        "label_encoded.value_counts()"
      ],
      "execution_count": 59,
      "outputs": [
        {
          "output_type": "stream",
          "text": [
            "      Coverage\n",
            "0            0\n",
            "1            1\n",
            "2            2\n",
            "3            0\n",
            "4            0\n",
            "...        ...\n",
            "9129         0\n",
            "9130         1\n",
            "9131         1\n",
            "9132         1\n",
            "9133         1\n",
            "\n",
            "[9134 rows x 1 columns]\n"
          ],
          "name": "stdout"
        },
        {
          "output_type": "stream",
          "text": [
            "/usr/local/lib/python3.7/dist-packages/sklearn/preprocessing/_label.py:235: DataConversionWarning: A column-vector y was passed when a 1d array was expected. Please change the shape of y to (n_samples, ), for example using ravel().\n",
            "  y = column_or_1d(y, warn=True)\n",
            "/usr/local/lib/python3.7/dist-packages/sklearn/preprocessing/_label.py:268: DataConversionWarning: A column-vector y was passed when a 1d array was expected. Please change the shape of y to (n_samples, ), for example using ravel().\n",
            "  y = column_or_1d(y, warn=True)\n"
          ],
          "name": "stderr"
        },
        {
          "output_type": "execute_result",
          "data": {
            "text/plain": [
              "Coverage\n",
              "0           5568\n",
              "1           2742\n",
              "2            824\n",
              "dtype: int64"
            ]
          },
          "metadata": {
            "tags": []
          },
          "execution_count": 59
        }
      ]
    },
    {
      "cell_type": "markdown",
      "metadata": {
        "id": "FB9BXZ_Fyn0o"
      },
      "source": [
        "- Normalize with MinMaxScale"
      ]
    },
    {
      "cell_type": "code",
      "metadata": {
        "id": "z3KZjU2_uJqo"
      },
      "source": [
        "\n",
        "from sklearn.preprocessing import MinMaxScaler\n",
        "\n",
        "MinMaxtransformer = MinMaxScaler()\n",
        "MinMaxtransformer = MinMaxtransformer.fit(numerical)"
      ],
      "execution_count": 63,
      "outputs": []
    },
    {
      "cell_type": "code",
      "metadata": {
        "colab": {
          "base_uri": "https://localhost:8080/",
          "height": 255
        },
        "id": "nDo71RozuWm1",
        "outputId": "43c2df10-5b01-4027-f9fe-915d1787128c"
      },
      "source": [
        "num_normalized = pd.DataFrame(MinMaxtransformer.transform(numerical), columns=numerical.columns)\n",
        "num_normalized.head()"
      ],
      "execution_count": 65,
      "outputs": [
        {
          "output_type": "execute_result",
          "data": {
            "text/html": [
              "<div>\n",
              "<style scoped>\n",
              "    .dataframe tbody tr th:only-of-type {\n",
              "        vertical-align: middle;\n",
              "    }\n",
              "\n",
              "    .dataframe tbody tr th {\n",
              "        vertical-align: top;\n",
              "    }\n",
              "\n",
              "    .dataframe thead th {\n",
              "        text-align: right;\n",
              "    }\n",
              "</style>\n",
              "<table border=\"1\" class=\"dataframe\">\n",
              "  <thead>\n",
              "    <tr style=\"text-align: right;\">\n",
              "      <th></th>\n",
              "      <th>Customer Lifetime Value</th>\n",
              "      <th>Income</th>\n",
              "      <th>Monthly Premium Auto</th>\n",
              "      <th>Months Since Last Claim</th>\n",
              "      <th>Months Since Policy Inception</th>\n",
              "      <th>Number of Open Complaints</th>\n",
              "      <th>Number of Policies</th>\n",
              "      <th>Total Claim Amount</th>\n",
              "    </tr>\n",
              "  </thead>\n",
              "  <tbody>\n",
              "    <tr>\n",
              "      <th>0</th>\n",
              "      <td>0.010629</td>\n",
              "      <td>0.562847</td>\n",
              "      <td>0.033755</td>\n",
              "      <td>0.914286</td>\n",
              "      <td>0.050505</td>\n",
              "      <td>0.0</td>\n",
              "      <td>0.000</td>\n",
              "      <td>0.132973</td>\n",
              "    </tr>\n",
              "    <tr>\n",
              "      <th>1</th>\n",
              "      <td>0.062406</td>\n",
              "      <td>0.000000</td>\n",
              "      <td>0.139241</td>\n",
              "      <td>0.371429</td>\n",
              "      <td>0.424242</td>\n",
              "      <td>0.0</td>\n",
              "      <td>0.875</td>\n",
              "      <td>0.391049</td>\n",
              "    </tr>\n",
              "    <tr>\n",
              "      <th>2</th>\n",
              "      <td>0.134960</td>\n",
              "      <td>0.487763</td>\n",
              "      <td>0.198312</td>\n",
              "      <td>0.514286</td>\n",
              "      <td>0.383838</td>\n",
              "      <td>0.0</td>\n",
              "      <td>0.125</td>\n",
              "      <td>0.195763</td>\n",
              "    </tr>\n",
              "    <tr>\n",
              "      <th>3</th>\n",
              "      <td>0.070589</td>\n",
              "      <td>0.000000</td>\n",
              "      <td>0.189873</td>\n",
              "      <td>0.514286</td>\n",
              "      <td>0.656566</td>\n",
              "      <td>0.0</td>\n",
              "      <td>0.750</td>\n",
              "      <td>0.183116</td>\n",
              "    </tr>\n",
              "    <tr>\n",
              "      <th>4</th>\n",
              "      <td>0.011245</td>\n",
              "      <td>0.438443</td>\n",
              "      <td>0.050633</td>\n",
              "      <td>0.342857</td>\n",
              "      <td>0.444444</td>\n",
              "      <td>0.0</td>\n",
              "      <td>0.000</td>\n",
              "      <td>0.047709</td>\n",
              "    </tr>\n",
              "  </tbody>\n",
              "</table>\n",
              "</div>"
            ],
            "text/plain": [
              "   Customer Lifetime Value    Income  ...  Number of Policies  Total Claim Amount\n",
              "0                 0.010629  0.562847  ...               0.000            0.132973\n",
              "1                 0.062406  0.000000  ...               0.875            0.391049\n",
              "2                 0.134960  0.487763  ...               0.125            0.195763\n",
              "3                 0.070589  0.000000  ...               0.750            0.183116\n",
              "4                 0.011245  0.438443  ...               0.000            0.047709\n",
              "\n",
              "[5 rows x 8 columns]"
            ]
          },
          "metadata": {
            "tags": []
          },
          "execution_count": 65
        }
      ]
    },
    {
      "cell_type": "markdown",
      "metadata": {
        "id": "TSN7k-_Iyihw"
      },
      "source": [
        "- Checking correlations to drop less correlated values with y"
      ]
    },
    {
      "cell_type": "code",
      "metadata": {
        "colab": {
          "base_uri": "https://localhost:8080/",
          "height": 407
        },
        "id": "nLhNVbBItuT4",
        "outputId": "8f36e53f-02d1-4908-b715-267cc7f9e52a"
      },
      "source": [
        "correlations_matrix = num_normalized.corr()\n",
        "sns.heatmap(correlations_matrix, annot=True)\n",
        "plt.show()"
      ],
      "execution_count": 69,
      "outputs": [
        {
          "output_type": "display_data",
          "data": {
            "image/png": "[encoded data removed]",
            "text/plain": [
              "<Figure size 432x288 with 2 Axes>"
            ]
          },
          "metadata": {
            "tags": [],
            "needs_background": "light"
          }
        }
      ]
    },
    {
      "cell_type": "code",
      "metadata": {
        "colab": {
          "base_uri": "https://localhost:8080/"
        },
        "id": "9t3xJVont7R4",
        "outputId": "ce5f3d39-801e-40ed-be7f-fc6d4cc5080e"
      },
      "source": [
        "reduced_numerical = num_normalized.drop(['Number of Policies','Months Since Policy Inception','Months Since Last Claim'],axis=1)\n",
        "reduced_numerical.columns"
      ],
      "execution_count": 70,
      "outputs": [
        {
          "output_type": "execute_result",
          "data": {
            "text/plain": [
              "Index(['Customer Lifetime Value', 'Income', 'Monthly Premium Auto',\n",
              "       'Number of Open Complaints', 'Total Claim Amount'],\n",
              "      dtype='object')"
            ]
          },
          "metadata": {
            "tags": []
          },
          "execution_count": 70
        }
      ]
    },
    {
      "cell_type": "markdown",
      "metadata": {
        "id": "Ad2maGrXybyz"
      },
      "source": [
        "**Splitting into train set and test set**"
      ]
    },
    {
      "cell_type": "code",
      "metadata": {
        "colab": {
          "base_uri": "https://localhost:8080/",
          "height": 436
        },
        "id": "whUf8tast9OY",
        "outputId": "44cf0159-a8b9-451e-92eb-751c5b26dd60"
      },
      "source": [
        "y = numerical['Total Claim Amount']\n",
        "X = reduced_numerical.drop(['Total Claim Amount'],axis=1)\n",
        "X"
      ],
      "execution_count": 91,
      "outputs": [
        {
          "output_type": "execute_result",
          "data": {
            "text/html": [
              "<div>\n",
              "<style scoped>\n",
              "    .dataframe tbody tr th:only-of-type {\n",
              "        vertical-align: middle;\n",
              "    }\n",
              "\n",
              "    .dataframe tbody tr th {\n",
              "        vertical-align: top;\n",
              "    }\n",
              "\n",
              "    .dataframe thead th {\n",
              "        text-align: right;\n",
              "    }\n",
              "</style>\n",
              "<table border=\"1\" class=\"dataframe\">\n",
              "  <thead>\n",
              "    <tr style=\"text-align: right;\">\n",
              "      <th></th>\n",
              "      <th>Customer Lifetime Value</th>\n",
              "      <th>Income</th>\n",
              "      <th>Monthly Premium Auto</th>\n",
              "      <th>Number of Open Complaints</th>\n",
              "    </tr>\n",
              "  </thead>\n",
              "  <tbody>\n",
              "    <tr>\n",
              "      <th>0</th>\n",
              "      <td>0.010629</td>\n",
              "      <td>0.562847</td>\n",
              "      <td>0.033755</td>\n",
              "      <td>0.0</td>\n",
              "    </tr>\n",
              "    <tr>\n",
              "      <th>1</th>\n",
              "      <td>0.062406</td>\n",
              "      <td>0.000000</td>\n",
              "      <td>0.139241</td>\n",
              "      <td>0.0</td>\n",
              "    </tr>\n",
              "    <tr>\n",
              "      <th>2</th>\n",
              "      <td>0.134960</td>\n",
              "      <td>0.487763</td>\n",
              "      <td>0.198312</td>\n",
              "      <td>0.0</td>\n",
              "    </tr>\n",
              "    <tr>\n",
              "      <th>3</th>\n",
              "      <td>0.070589</td>\n",
              "      <td>0.000000</td>\n",
              "      <td>0.189873</td>\n",
              "      <td>0.0</td>\n",
              "    </tr>\n",
              "    <tr>\n",
              "      <th>4</th>\n",
              "      <td>0.011245</td>\n",
              "      <td>0.438443</td>\n",
              "      <td>0.050633</td>\n",
              "      <td>0.0</td>\n",
              "    </tr>\n",
              "    <tr>\n",
              "      <th>...</th>\n",
              "      <td>...</td>\n",
              "      <td>...</td>\n",
              "      <td>...</td>\n",
              "      <td>...</td>\n",
              "    </tr>\n",
              "    <tr>\n",
              "      <th>9129</th>\n",
              "      <td>0.264137</td>\n",
              "      <td>0.719547</td>\n",
              "      <td>0.050633</td>\n",
              "      <td>0.0</td>\n",
              "    </tr>\n",
              "    <tr>\n",
              "      <th>9130</th>\n",
              "      <td>0.014719</td>\n",
              "      <td>0.216081</td>\n",
              "      <td>0.075949</td>\n",
              "      <td>0.0</td>\n",
              "    </tr>\n",
              "    <tr>\n",
              "      <th>9131</th>\n",
              "      <td>0.076951</td>\n",
              "      <td>0.000000</td>\n",
              "      <td>0.101266</td>\n",
              "      <td>0.6</td>\n",
              "    </tr>\n",
              "    <tr>\n",
              "      <th>9132</th>\n",
              "      <td>0.069098</td>\n",
              "      <td>0.219452</td>\n",
              "      <td>0.147679</td>\n",
              "      <td>0.0</td>\n",
              "    </tr>\n",
              "    <tr>\n",
              "      <th>9133</th>\n",
              "      <td>0.008766</td>\n",
              "      <td>0.000000</td>\n",
              "      <td>0.067511</td>\n",
              "      <td>0.0</td>\n",
              "    </tr>\n",
              "  </tbody>\n",
              "</table>\n",
              "<p>9134 rows × 4 columns</p>\n",
              "</div>"
            ],
            "text/plain": [
              "      Customer Lifetime Value  ...  Number of Open Complaints\n",
              "0                    0.010629  ...                        0.0\n",
              "1                    0.062406  ...                        0.0\n",
              "2                    0.134960  ...                        0.0\n",
              "3                    0.070589  ...                        0.0\n",
              "4                    0.011245  ...                        0.0\n",
              "...                       ...  ...                        ...\n",
              "9129                 0.264137  ...                        0.0\n",
              "9130                 0.014719  ...                        0.0\n",
              "9131                 0.076951  ...                        0.6\n",
              "9132                 0.069098  ...                        0.0\n",
              "9133                 0.008766  ...                        0.0\n",
              "\n",
              "[9134 rows x 4 columns]"
            ]
          },
          "metadata": {
            "tags": []
          },
          "execution_count": 91
        }
      ]
    },
    {
      "cell_type": "code",
      "metadata": {
        "colab": {
          "base_uri": "https://localhost:8080/",
          "height": 238
        },
        "id": "pP8GlbN8t_hA",
        "outputId": "224a2f17-f6be-41be-f3aa-f221128d83b1"
      },
      "source": [
        "X = pd.concat([X,one_hot_encoded],axis=1)\n",
        "\n",
        "X.head()"
      ],
      "execution_count": 92,
      "outputs": [
        {
          "output_type": "execute_result",
          "data": {
            "text/html": [
              "<div>\n",
              "<style scoped>\n",
              "    .dataframe tbody tr th:only-of-type {\n",
              "        vertical-align: middle;\n",
              "    }\n",
              "\n",
              "    .dataframe tbody tr th {\n",
              "        vertical-align: top;\n",
              "    }\n",
              "\n",
              "    .dataframe thead th {\n",
              "        text-align: right;\n",
              "    }\n",
              "</style>\n",
              "<table border=\"1\" class=\"dataframe\">\n",
              "  <thead>\n",
              "    <tr style=\"text-align: right;\">\n",
              "      <th></th>\n",
              "      <th>Customer Lifetime Value</th>\n",
              "      <th>Income</th>\n",
              "      <th>Monthly Premium Auto</th>\n",
              "      <th>Number of Open Complaints</th>\n",
              "      <th>(Basic,)</th>\n",
              "      <th>(Extended,)</th>\n",
              "    </tr>\n",
              "  </thead>\n",
              "  <tbody>\n",
              "    <tr>\n",
              "      <th>0</th>\n",
              "      <td>0.010629</td>\n",
              "      <td>0.562847</td>\n",
              "      <td>0.033755</td>\n",
              "      <td>0.0</td>\n",
              "      <td>1.0</td>\n",
              "      <td>0.0</td>\n",
              "    </tr>\n",
              "    <tr>\n",
              "      <th>1</th>\n",
              "      <td>0.062406</td>\n",
              "      <td>0.000000</td>\n",
              "      <td>0.139241</td>\n",
              "      <td>0.0</td>\n",
              "      <td>0.0</td>\n",
              "      <td>1.0</td>\n",
              "    </tr>\n",
              "    <tr>\n",
              "      <th>2</th>\n",
              "      <td>0.134960</td>\n",
              "      <td>0.487763</td>\n",
              "      <td>0.198312</td>\n",
              "      <td>0.0</td>\n",
              "      <td>0.0</td>\n",
              "      <td>0.0</td>\n",
              "    </tr>\n",
              "    <tr>\n",
              "      <th>3</th>\n",
              "      <td>0.070589</td>\n",
              "      <td>0.000000</td>\n",
              "      <td>0.189873</td>\n",
              "      <td>0.0</td>\n",
              "      <td>1.0</td>\n",
              "      <td>0.0</td>\n",
              "    </tr>\n",
              "    <tr>\n",
              "      <th>4</th>\n",
              "      <td>0.011245</td>\n",
              "      <td>0.438443</td>\n",
              "      <td>0.050633</td>\n",
              "      <td>0.0</td>\n",
              "      <td>1.0</td>\n",
              "      <td>0.0</td>\n",
              "    </tr>\n",
              "  </tbody>\n",
              "</table>\n",
              "</div>"
            ],
            "text/plain": [
              "   Customer Lifetime Value    Income  ...  (Basic,)  (Extended,)\n",
              "0                 0.010629  0.562847  ...       1.0          0.0\n",
              "1                 0.062406  0.000000  ...       0.0          1.0\n",
              "2                 0.134960  0.487763  ...       0.0          0.0\n",
              "3                 0.070589  0.000000  ...       1.0          0.0\n",
              "4                 0.011245  0.438443  ...       1.0          0.0\n",
              "\n",
              "[5 rows x 6 columns]"
            ]
          },
          "metadata": {
            "tags": []
          },
          "execution_count": 92
        }
      ]
    },
    {
      "cell_type": "code",
      "metadata": {
        "id": "hY8yuUBJvDxD"
      },
      "source": [
        "from sklearn.model_selection import train_test_split\n",
        "\n",
        "X_train, X_test, y_train, y_test = train_test_split(X,y,test_size=0.50,random_state=100)"
      ],
      "execution_count": 93,
      "outputs": []
    },
    {
      "cell_type": "code",
      "metadata": {
        "colab": {
          "base_uri": "https://localhost:8080/",
          "height": 238
        },
        "id": "qIgOQ8eevYA8",
        "outputId": "a856fa3b-2104-4822-bfe5-93cea3efa2c7"
      },
      "source": [
        "X_train.head()"
      ],
      "execution_count": 94,
      "outputs": [
        {
          "output_type": "execute_result",
          "data": {
            "text/html": [
              "<div>\n",
              "<style scoped>\n",
              "    .dataframe tbody tr th:only-of-type {\n",
              "        vertical-align: middle;\n",
              "    }\n",
              "\n",
              "    .dataframe tbody tr th {\n",
              "        vertical-align: top;\n",
              "    }\n",
              "\n",
              "    .dataframe thead th {\n",
              "        text-align: right;\n",
              "    }\n",
              "</style>\n",
              "<table border=\"1\" class=\"dataframe\">\n",
              "  <thead>\n",
              "    <tr style=\"text-align: right;\">\n",
              "      <th></th>\n",
              "      <th>Customer Lifetime Value</th>\n",
              "      <th>Income</th>\n",
              "      <th>Monthly Premium Auto</th>\n",
              "      <th>Number of Open Complaints</th>\n",
              "      <th>(Basic,)</th>\n",
              "      <th>(Extended,)</th>\n",
              "    </tr>\n",
              "  </thead>\n",
              "  <tbody>\n",
              "    <tr>\n",
              "      <th>4226</th>\n",
              "      <td>0.050018</td>\n",
              "      <td>0.251298</td>\n",
              "      <td>0.084388</td>\n",
              "      <td>0.2</td>\n",
              "      <td>0.0</td>\n",
              "      <td>1.0</td>\n",
              "    </tr>\n",
              "    <tr>\n",
              "      <th>6100</th>\n",
              "      <td>0.035634</td>\n",
              "      <td>0.000000</td>\n",
              "      <td>0.016878</td>\n",
              "      <td>0.0</td>\n",
              "      <td>1.0</td>\n",
              "      <td>0.0</td>\n",
              "    </tr>\n",
              "    <tr>\n",
              "      <th>3414</th>\n",
              "      <td>0.020165</td>\n",
              "      <td>0.000000</td>\n",
              "      <td>0.160338</td>\n",
              "      <td>0.0</td>\n",
              "      <td>0.0</td>\n",
              "      <td>1.0</td>\n",
              "    </tr>\n",
              "    <tr>\n",
              "      <th>1540</th>\n",
              "      <td>0.061085</td>\n",
              "      <td>0.000000</td>\n",
              "      <td>0.569620</td>\n",
              "      <td>0.4</td>\n",
              "      <td>0.0</td>\n",
              "      <td>0.0</td>\n",
              "    </tr>\n",
              "    <tr>\n",
              "      <th>1367</th>\n",
              "      <td>0.075245</td>\n",
              "      <td>0.387094</td>\n",
              "      <td>0.168776</td>\n",
              "      <td>0.6</td>\n",
              "      <td>1.0</td>\n",
              "      <td>0.0</td>\n",
              "    </tr>\n",
              "  </tbody>\n",
              "</table>\n",
              "</div>"
            ],
            "text/plain": [
              "      Customer Lifetime Value    Income  ...  (Basic,)  (Extended,)\n",
              "4226                 0.050018  0.251298  ...       0.0          1.0\n",
              "6100                 0.035634  0.000000  ...       1.0          0.0\n",
              "3414                 0.020165  0.000000  ...       0.0          1.0\n",
              "1540                 0.061085  0.000000  ...       0.0          0.0\n",
              "1367                 0.075245  0.387094  ...       1.0          0.0\n",
              "\n",
              "[5 rows x 6 columns]"
            ]
          },
          "metadata": {
            "tags": []
          },
          "execution_count": 94
        }
      ]
    },
    {
      "cell_type": "code",
      "metadata": {
        "colab": {
          "base_uri": "https://localhost:8080/"
        },
        "id": "OE-MluKxvdps",
        "outputId": "09b3784a-d5f3-4be5-e2df-9a0f079467f9"
      },
      "source": [
        "y_train.head()"
      ],
      "execution_count": 95,
      "outputs": [
        {
          "output_type": "execute_result",
          "data": {
            "text/plain": [
              "4226     583.20\n",
              "6100     312.00\n",
              "3414    1158.86\n",
              "1540     940.80\n",
              "1367     253.36\n",
              "Name: Total Claim Amount, dtype: float64"
            ]
          },
          "metadata": {
            "tags": []
          },
          "execution_count": 95
        }
      ]
    },
    {
      "cell_type": "code",
      "metadata": {
        "colab": {
          "base_uri": "https://localhost:8080/",
          "height": 238
        },
        "id": "M3xYaWDUvegM",
        "outputId": "5169a7bf-bb9f-4de9-9322-6dbc256e0701"
      },
      "source": [
        "X_test.head()"
      ],
      "execution_count": 96,
      "outputs": [
        {
          "output_type": "execute_result",
          "data": {
            "text/html": [
              "<div>\n",
              "<style scoped>\n",
              "    .dataframe tbody tr th:only-of-type {\n",
              "        vertical-align: middle;\n",
              "    }\n",
              "\n",
              "    .dataframe tbody tr th {\n",
              "        vertical-align: top;\n",
              "    }\n",
              "\n",
              "    .dataframe thead th {\n",
              "        text-align: right;\n",
              "    }\n",
              "</style>\n",
              "<table border=\"1\" class=\"dataframe\">\n",
              "  <thead>\n",
              "    <tr style=\"text-align: right;\">\n",
              "      <th></th>\n",
              "      <th>Customer Lifetime Value</th>\n",
              "      <th>Income</th>\n",
              "      <th>Monthly Premium Auto</th>\n",
              "      <th>Number of Open Complaints</th>\n",
              "      <th>(Basic,)</th>\n",
              "      <th>(Extended,)</th>\n",
              "    </tr>\n",
              "  </thead>\n",
              "  <tbody>\n",
              "    <tr>\n",
              "      <th>7175</th>\n",
              "      <td>0.039478</td>\n",
              "      <td>0.565978</td>\n",
              "      <td>0.016878</td>\n",
              "      <td>0.2</td>\n",
              "      <td>1.0</td>\n",
              "      <td>0.0</td>\n",
              "    </tr>\n",
              "    <tr>\n",
              "      <th>7255</th>\n",
              "      <td>0.036650</td>\n",
              "      <td>0.212400</td>\n",
              "      <td>0.261603</td>\n",
              "      <td>0.0</td>\n",
              "      <td>0.0</td>\n",
              "      <td>1.0</td>\n",
              "    </tr>\n",
              "    <tr>\n",
              "      <th>2846</th>\n",
              "      <td>0.044100</td>\n",
              "      <td>0.338874</td>\n",
              "      <td>0.029536</td>\n",
              "      <td>0.0</td>\n",
              "      <td>1.0</td>\n",
              "      <td>0.0</td>\n",
              "    </tr>\n",
              "    <tr>\n",
              "      <th>1211</th>\n",
              "      <td>0.022135</td>\n",
              "      <td>0.175603</td>\n",
              "      <td>0.147679</td>\n",
              "      <td>0.0</td>\n",
              "      <td>0.0</td>\n",
              "      <td>1.0</td>\n",
              "    </tr>\n",
              "    <tr>\n",
              "      <th>4294</th>\n",
              "      <td>0.083287</td>\n",
              "      <td>0.527270</td>\n",
              "      <td>0.202532</td>\n",
              "      <td>0.0</td>\n",
              "      <td>0.0</td>\n",
              "      <td>0.0</td>\n",
              "    </tr>\n",
              "  </tbody>\n",
              "</table>\n",
              "</div>"
            ],
            "text/plain": [
              "      Customer Lifetime Value    Income  ...  (Basic,)  (Extended,)\n",
              "7175                 0.039478  0.565978  ...       1.0          0.0\n",
              "7255                 0.036650  0.212400  ...       0.0          1.0\n",
              "2846                 0.044100  0.338874  ...       1.0          0.0\n",
              "1211                 0.022135  0.175603  ...       0.0          1.0\n",
              "4294                 0.083287  0.527270  ...       0.0          0.0\n",
              "\n",
              "[5 rows x 6 columns]"
            ]
          },
          "metadata": {
            "tags": []
          },
          "execution_count": 96
        }
      ]
    },
    {
      "cell_type": "code",
      "metadata": {
        "colab": {
          "base_uri": "https://localhost:8080/"
        },
        "id": "ABI99uDUvgrE",
        "outputId": "14a1e008-45ea-40e7-cb52-0efadeb390d1"
      },
      "source": [
        "y_test.head()"
      ],
      "execution_count": 97,
      "outputs": [
        {
          "output_type": "execute_result",
          "data": {
            "text/plain": [
              "7175    312.00\n",
              "7255    131.26\n",
              "2846     65.66\n",
              "1211    666.72\n",
              "4294     60.15\n",
              "Name: Total Claim Amount, dtype: float64"
            ]
          },
          "metadata": {
            "tags": []
          },
          "execution_count": 97
        }
      ]
    },
    {
      "cell_type": "code",
      "metadata": {
        "id": "2dJFb_tAvjza"
      },
      "source": [
        ""
      ],
      "execution_count": 97,
      "outputs": []
    },
    {
      "cell_type": "markdown",
      "metadata": {
        "id": "DtjzUbyWvmrU"
      },
      "source": [
        "## **06 - Model Validation**\n",
        "- R2.\n",
        "- MSE.\n",
        "- RMSE.\n",
        "- MAE."
      ]
    },
    {
      "cell_type": "code",
      "metadata": {
        "id": "U52L91i2vpXf"
      },
      "source": [
        "from sklearn import linear_model\n",
        "\n",
        "model = linear_model.LinearRegression()\n",
        "model = model.fit(X,y)\n",
        "\n",
        "model = model.fit(X_train, y_train)"
      ],
      "execution_count": 98,
      "outputs": []
    },
    {
      "cell_type": "code",
      "metadata": {
        "colab": {
          "base_uri": "https://localhost:8080/"
        },
        "id": "E8l8Xwaevslg",
        "outputId": "9bb21538-b5ad-436e-b19e-fd873ba2cebb"
      },
      "source": [
        "model.score(X_train, y_train)"
      ],
      "execution_count": 99,
      "outputs": [
        {
          "output_type": "execute_result",
          "data": {
            "text/plain": [
              "0.5400319001104095"
            ]
          },
          "metadata": {
            "tags": []
          },
          "execution_count": 99
        }
      ]
    },
    {
      "cell_type": "code",
      "metadata": {
        "colab": {
          "base_uri": "https://localhost:8080/"
        },
        "id": "2uAOjVDYv5U-",
        "outputId": "0e8f2871-dfde-49cc-97df-4fc1ab4625b3"
      },
      "source": [
        "model.predict(X_test)"
      ],
      "execution_count": 100,
      "outputs": [
        {
          "output_type": "execute_result",
          "data": {
            "text/plain": [
              "array([226.64062312, 648.40717199, 318.53734647, ..., 278.83288222,\n",
              "       341.3669396 , 466.13847814])"
            ]
          },
          "metadata": {
            "tags": []
          },
          "execution_count": 100
        }
      ]
    },
    {
      "cell_type": "markdown",
      "metadata": {
        "id": "Ri7wa3mEyXEy"
      },
      "source": [
        "**R2**"
      ]
    },
    {
      "cell_type": "code",
      "metadata": {
        "colab": {
          "base_uri": "https://localhost:8080/"
        },
        "id": "gYfQ9et8wUQS",
        "outputId": "4df79afc-7a45-418f-c600-64a81dab6726"
      },
      "source": [
        "from sklearn.metrics import r2_score\n",
        "\n",
        "r2_score(y_test,model.predict(X_test))\n",
        "predicted = model.predict(X_test)\n",
        "\n",
        "r2 = r2_score(y_test, predicted)\n",
        "\n",
        "r2"
      ],
      "execution_count": 108,
      "outputs": [
        {
          "output_type": "execute_result",
          "data": {
            "text/plain": [
              "0.4961325637521704"
            ]
          },
          "metadata": {
            "tags": []
          },
          "execution_count": 108
        }
      ]
    },
    {
      "cell_type": "markdown",
      "metadata": {
        "id": "Gn0hBbacx489"
      },
      "source": [
        "The model is mediocre at predicting the Total Claim Amount of the customers from my data. It should be closer to 1 than to 0 to be at least more than mediocre to predict the y value."
      ]
    },
    {
      "cell_type": "markdown",
      "metadata": {
        "id": "of_d7oIJyPnM"
      },
      "source": [
        "**MSE**"
      ]
    },
    {
      "cell_type": "code",
      "metadata": {
        "colab": {
          "base_uri": "https://localhost:8080/"
        },
        "id": "cq6OgUJlwZtR",
        "outputId": "42fb4158-1259-411d-ac9b-d74eb208c601"
      },
      "source": [
        "from sklearn.metrics import mean_squared_error\n",
        "mse = mean_squared_error(y_test,predicted)\n",
        "print(mse)"
      ],
      "execution_count": 107,
      "outputs": [
        {
          "output_type": "stream",
          "text": [
            "41665.6586746821\n"
          ],
          "name": "stdout"
        }
      ]
    },
    {
      "cell_type": "markdown",
      "metadata": {
        "id": "A1Q2eHLEyMYM"
      },
      "source": [
        "**RMSE**"
      ]
    },
    {
      "cell_type": "code",
      "metadata": {
        "colab": {
          "base_uri": "https://localhost:8080/"
        },
        "id": "5U3u6SJRwgt3",
        "outputId": "0a302262-7f85-4f61-9cdc-3ed0f6183a81"
      },
      "source": [
        "# RMSE\n",
        "\n",
        "from sklearn import linear_model\n",
        "import math\n",
        "\n",
        "rmse = math.sqrt(mse)\n",
        "print(rmse)"
      ],
      "execution_count": 103,
      "outputs": [
        {
          "output_type": "stream",
          "text": [
            "204.12167615097152\n"
          ],
          "name": "stdout"
        }
      ]
    },
    {
      "cell_type": "markdown",
      "metadata": {
        "id": "Sq16lBc3x9OK"
      },
      "source": [
        "\n",
        "The average mistakes from the prediction model is expected to be 204.12$, which is a huge average error. Considering the average error value, we can say that the model is not good enough to make predictions."
      ]
    },
    {
      "cell_type": "markdown",
      "metadata": {
        "id": "ITeFZURTyIDf"
      },
      "source": [
        "**MAE**"
      ]
    },
    {
      "cell_type": "code",
      "metadata": {
        "colab": {
          "base_uri": "https://localhost:8080/"
        },
        "id": "qBm977XiwjoH",
        "outputId": "37e78b92-090e-4a2a-bb4d-d873899f1fda"
      },
      "source": [
        "from sklearn.metrics import mean_absolute_error\n",
        "\n",
        "mae = mean_absolute_error(y_test,predicted)\n",
        "print('MAE: %.3f' % mae)"
      ],
      "execution_count": 106,
      "outputs": [
        {
          "output_type": "stream",
          "text": [
            "MAE: 146.080\n"
          ],
          "name": "stdout"
        }
      ]
    },
    {
      "cell_type": "markdown",
      "metadata": {
        "id": "tI3SnsNMyB-f"
      },
      "source": [
        "The performance of the model when making predictions on new data has a mean absolute error of about 146 dollars."
      ]
    },
    {
      "cell_type": "code",
      "metadata": {
        "id": "wkKE2_ffyEcH"
      },
      "source": [
        ""
      ],
      "execution_count": null,
      "outputs": []
    }
  ]
}